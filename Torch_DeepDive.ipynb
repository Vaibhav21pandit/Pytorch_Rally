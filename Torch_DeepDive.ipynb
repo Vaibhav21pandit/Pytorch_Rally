{
  "nbformat": 4,
  "nbformat_minor": 0,
  "metadata": {
    "colab": {
      "name": "Torch_DeepDive.ipynb",
      "provenance": [],
      "authorship_tag": "ABX9TyOXBf3YOyo12FRx6R2n7/FS",
      "include_colab_link": true
    },
    "kernelspec": {
      "name": "python3",
      "display_name": "Python 3"
    }
  },
  "cells": [
    {
      "cell_type": "markdown",
      "metadata": {
        "id": "view-in-github",
        "colab_type": "text"
      },
      "source": [
        "<a href=\"https://colab.research.google.com/github/Vaibhav21pandit/Pytorch_Rally/blob/master/Torch_DeepDive.ipynb\" target=\"_parent\"><img src=\"https://colab.research.google.com/assets/colab-badge.svg\" alt=\"Open In Colab\"/></a>"
      ]
    },
    {
      "cell_type": "code",
      "metadata": {
        "id": "vmV8zo-FWLGp",
        "colab_type": "code",
        "colab": {}
      },
      "source": [
        "#Hooks and other features for a network\n",
        "#Interpretability with Captum\n",
        "#LR Annealing\n",
        "#"
      ],
      "execution_count": null,
      "outputs": []
    }
  ]
}