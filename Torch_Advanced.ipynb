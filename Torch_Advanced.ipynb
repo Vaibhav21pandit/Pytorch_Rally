{
  "nbformat": 4,
  "nbformat_minor": 0,
  "metadata": {
    "colab": {
      "name": "Torch_Advanced.ipynb",
      "provenance": [],
      "authorship_tag": "ABX9TyOQdx6Cs4NCowz8MjgtcvsT",
      "include_colab_link": true
    },
    "kernelspec": {
      "name": "python3",
      "display_name": "Python 3"
    },
    "accelerator": "GPU"
  },
  "cells": [
    {
      "cell_type": "markdown",
      "metadata": {
        "id": "view-in-github",
        "colab_type": "text"
      },
      "source": [
        "<a href=\"https://colab.research.google.com/github/Vaibhav21pandit/Pytorch_Rally/blob/master/Torch_Advanced.ipynb\" target=\"_parent\"><img src=\"https://colab.research.google.com/assets/colab-badge.svg\" alt=\"Open In Colab\"/></a>"
      ]
    },
    {
      "cell_type": "markdown",
      "metadata": {
        "id": "6jBZvb0mi7ee",
        "colab_type": "text"
      },
      "source": [
        "Following cell downloads MNIST images as numpy arrays and converts to Torch_tensors-> dataset->dataLoader "
      ]
    },
    {
      "cell_type": "code",
      "metadata": {
        "id": "EkNRwyklEcC0",
        "colab_type": "code",
        "colab": {}
      },
      "source": [
        "import torch\n",
        "from torch import nn,optim\n",
        "from torchvision import datasets\n",
        "import numpy as np\n",
        "import matplotlib.pyplot as plt\n",
        "from torch.utils.data import DataLoader,TensorDataset\n",
        "import matplotlib.pyplot as plt"
      ],
      "execution_count": null,
      "outputs": []
    },
    {
      "cell_type": "code",
      "metadata": {
        "id": "2bLSxoVgMqEu",
        "colab_type": "code",
        "colab": {
          "base_uri": "https://localhost:8080/",
          "height": 208
        },
        "outputId": "b00d7b46-1a34-426f-a1b3-601e9f67d2ae"
      },
      "source": [
        "import gzip\n",
        "import pickle\n",
        "!wget \"http://deeplearning.net/data/mnist/mnist.pkl.gz\"\n",
        "with gzip.open(('./mnist.pkl.gz'), \"rb\") as f:\n",
        "        ((x_train, y_train), (x_valid, y_valid), _) = pickle.load(f, encoding=\"latin-1\")"
      ],
      "execution_count": null,
      "outputs": [
        {
          "output_type": "stream",
          "text": [
            "--2020-09-19 10:31:42--  http://deeplearning.net/data/mnist/mnist.pkl.gz\n",
            "Resolving deeplearning.net (deeplearning.net)... 132.204.26.28\n",
            "Connecting to deeplearning.net (deeplearning.net)|132.204.26.28|:80... connected.\n",
            "HTTP request sent, awaiting response... 200 OK\n",
            "Length: 16168813 (15M) [application/x-gzip]\n",
            "Saving to: ‘mnist.pkl.gz.3’\n",
            "\n",
            "mnist.pkl.gz.3      100%[===================>]  15.42M  8.89MB/s    in 1.7s    \n",
            "\n",
            "2020-09-19 10:31:44 (8.89 MB/s) - ‘mnist.pkl.gz.3’ saved [16168813/16168813]\n",
            "\n"
          ],
          "name": "stdout"
        }
      ]
    },
    {
      "cell_type": "code",
      "metadata": {
        "id": "dAdF6QFZMp8t",
        "colab_type": "code",
        "colab": {}
      },
      "source": [
        "(x_train, y_train, x_valid, y_valid)=(map(torch.tensor,(x_train, y_train, x_valid, y_valid)))\n",
        "\n",
        "data={\n",
        "    'train':torch.utils.data.TensorDataset(x_train,y_train),\n",
        "    'val':TensorDataset(x_valid,y_valid)\n",
        "}\n",
        "dataloader={\n",
        "    'train':DataLoader(data['train'],100,shuffle=True),\n",
        "    'val':DataLoader(data['val'],50)\n",
        "}"
      ],
      "execution_count": null,
      "outputs": []
    },
    {
      "cell_type": "code",
      "metadata": {
        "id": "Rx3jKp-PMqBz",
        "colab_type": "code",
        "colab": {
          "base_uri": "https://localhost:8080/",
          "height": 282
        },
        "outputId": "dd5e9069-89ab-48b2-c5a6-271061ad48cf"
      },
      "source": [
        "plt.imshow(x_train[0].reshape((28,28)))"
      ],
      "execution_count": null,
      "outputs": [
        {
          "output_type": "execute_result",
          "data": {
            "text/plain": [
              "<matplotlib.image.AxesImage at 0x7fba67bc3470>"
            ]
          },
          "metadata": {
            "tags": []
          },
          "execution_count": 4
        },
        {
          "output_type": "display_data",
          "data": {
            "image/png": "[encoded data removed]",
            "text/plain": [
              "<Figure size 432x288 with 1 Axes>"
            ]
          },
          "metadata": {
            "tags": [],
            "needs_background": "light"
          }
        }
      ]
    },
    {
      "cell_type": "markdown",
      "metadata": {
        "id": "h2Zirdss4wqY",
        "colab_type": "text"
      },
      "source": [
        "Autoencoder with MNIST"
      ]
    },
    {
      "cell_type": "code",
      "metadata": {
        "id": "jwlMFipuww3O",
        "colab_type": "code",
        "colab": {}
      },
      "source": [
        ""
      ],
      "execution_count": null,
      "outputs": []
    },
    {
      "cell_type": "code",
      "metadata": {
        "id": "ZsQz30HoPsWu",
        "colab_type": "code",
        "colab": {}
      },
      "source": [
        "#refer to https://medium.com/pytorch/implementing-an-autoencoder-in-pytorch-19baa22647d1 For details\n",
        "# defining the AutoEncoder in single class\n",
        "class AE(nn.Module):\n",
        "  def __init__(self,**kwargs):\n",
        "    super().__init__()\n",
        "    self.encode1=nn.Linear(kwargs['input_shape'],324)\n",
        "    self.encode2=nn.Linear(324,128)\n",
        "    self.decode1=nn.Linear(128,324)\n",
        "    self.decode2=nn.Linear(324,kwargs['input_shape'])\n",
        "\n",
        "  def forward(self,x):\n",
        "    x=self.encode1(x)\n",
        "    x=torch.relu(x)\n",
        "    x=torch.relu(self.encode2(x))\n",
        "    x=torch.relu(self.decode1(x))\n",
        "    x=torch.relu(self.decode2(x))\n",
        "    # x=torch.relu(x)\n",
        "    return x\n",
        "model=AE(input_shape=784).cuda()\n"
      ],
      "execution_count": null,
      "outputs": []
    },
    {
      "cell_type": "code",
      "metadata": {
        "id": "XKEB4XjIe-oG",
        "colab_type": "code",
        "colab": {}
      },
      "source": [
        "criterion=nn.MSELoss()\n",
        "optimizer=optim.Adam(model.parameters(),lr=0.01)"
      ],
      "execution_count": null,
      "outputs": []
    },
    {
      "cell_type": "code",
      "metadata": {
        "id": "0wjOzLCOPsT9",
        "colab_type": "code",
        "colab": {}
      },
      "source": [
        "def Train(num_epochs=15):\n",
        "  for i in range(num_epochs):\n",
        "    val_loss=0\n",
        "    for inputs,_ in dataloader['train']:\n",
        "      inputs=inputs.view(-1,784)\n",
        "      inputs=inputs.cuda()\n",
        "      outputs=model(inputs).cuda()\n",
        "      loss=criterion(outputs,inputs)\n",
        "      loss.backward()\n",
        "      optimizer.step()\n",
        "      optimizer.zero_grad()\n",
        "      with torch.no_grad():\n",
        "        model.eval()\n",
        "        for input_batch,_ in dataloader['val']:\n",
        "          input_batch=input_batch.view(-1,784)\n",
        "          input_batch=input_batch.cuda()\n",
        "          result=model(input_batch).cuda()\n",
        "          val_batch_loss=criterion(result,input_batch)\n",
        "          val_loss+=val_batch_loss\n",
        "    print(val_loss) \n"
      ],
      "execution_count": null,
      "outputs": []
    },
    {
      "cell_type": "code",
      "metadata": {
        "id": "BPuvSEmGyXCu",
        "colab_type": "code",
        "colab": {
          "base_uri": "https://localhost:8080/",
          "height": 278
        },
        "outputId": "dd8e1ba7-7a4e-490d-f51a-e4da4c955456"
      },
      "source": [
        "Train()"
      ],
      "execution_count": null,
      "outputs": [
        {
          "output_type": "stream",
          "text": [
            "tensor(4720.2422, device='cuda:0')\n",
            "tensor(3595.6946, device='cuda:0')\n",
            "tensor(3496.4675, device='cuda:0')\n",
            "tensor(3457.5222, device='cuda:0')\n",
            "tensor(3431.4888, device='cuda:0')\n",
            "tensor(3418.8247, device='cuda:0')\n",
            "tensor(3390.3662, device='cuda:0')\n",
            "tensor(3386.8899, device='cuda:0')\n",
            "tensor(3375.7131, device='cuda:0')\n",
            "tensor(3380.0513, device='cuda:0')\n",
            "tensor(3375.5291, device='cuda:0')\n",
            "tensor(3370.1040, device='cuda:0')\n",
            "tensor(3368.9990, device='cuda:0')\n",
            "tensor(3366.7317, device='cuda:0')\n",
            "tensor(3368.2598, device='cuda:0')\n"
          ],
          "name": "stdout"
        }
      ]
    },
    {
      "cell_type": "code",
      "metadata": {
        "id": "MXKwUYcJ_Ltd",
        "colab_type": "code",
        "colab": {}
      },
      "source": [
        "torch.save(model.state_dict,'./AE_MNIST.pth')"
      ],
      "execution_count": null,
      "outputs": []
    },
    {
      "cell_type": "code",
      "metadata": {
        "id": "53yxTvLI4uPM",
        "colab_type": "code",
        "colab": {}
      },
      "source": [
        "for inputs,_ in dataloader['val']:\n",
        "  inputs=inputs.cuda()\n",
        "  \n",
        "\n"
      ],
      "execution_count": null,
      "outputs": []
    },
    {
      "cell_type": "code",
      "metadata": {
        "id": "ISc-HMq14uNF",
        "colab_type": "code",
        "colab": {
          "base_uri": "https://localhost:8080/",
          "height": 34
        },
        "outputId": "bdea8fa4-82b8-4561-8afd-7569d341b08d"
      },
      "source": [
        "result=model(inputs[0])\n",
        "result=result.cpu().detach().numpy()\n",
        "result=result.reshape((28,28))\n",
        "result.shape"
      ],
      "execution_count": null,
      "outputs": [
        {
          "output_type": "execute_result",
          "data": {
            "text/plain": [
              "(28, 28)"
            ]
          },
          "metadata": {
            "tags": []
          },
          "execution_count": 11
        }
      ]
    },
    {
      "cell_type": "code",
      "metadata": {
        "id": "lHiJ3pUlDs85",
        "colab_type": "code",
        "colab": {
          "base_uri": "https://localhost:8080/",
          "height": 282
        },
        "outputId": "e2537a1c-3ee2-4857-e84f-43c81ad1b4cd"
      },
      "source": [
        "original=inputs[0].cpu().detach().numpy()\n",
        "original=original.reshape((28,28))\n",
        "plt.imshow(original)"
      ],
      "execution_count": null,
      "outputs": [
        {
          "output_type": "execute_result",
          "data": {
            "text/plain": [
              "<matplotlib.image.AxesImage at 0x7fba6004f390>"
            ]
          },
          "metadata": {
            "tags": []
          },
          "execution_count": 12
        },
        {
          "output_type": "display_data",
          "data": {
            "image/png": "[encoded data removed]",
            "text/plain": [
              "<Figure size 432x288 with 1 Axes>"
            ]
          },
          "metadata": {
            "tags": [],
            "needs_background": "light"
          }
        }
      ]
    },
    {
      "cell_type": "code",
      "metadata": {
        "id": "8AeFiJSg4uKi",
        "colab_type": "code",
        "colab": {
          "base_uri": "https://localhost:8080/",
          "height": 282
        },
        "outputId": "3c1091e6-7135-4baf-9b94-9806208451cf"
      },
      "source": [
        "plt.imshow(result)"
      ],
      "execution_count": null,
      "outputs": [
        {
          "output_type": "execute_result",
          "data": {
            "text/plain": [
              "<matplotlib.image.AxesImage at 0x7fba4efe1518>"
            ]
          },
          "metadata": {
            "tags": []
          },
          "execution_count": 13
        },
        {
          "output_type": "display_data",
          "data": {
            "image/png": "[encoded data removed]",
            "text/plain": [
              "<Figure size 432x288 with 1 Axes>"
            ]
          },
          "metadata": {
            "tags": [],
            "needs_background": "light"
          }
        }
      ]
    },
    {
      "cell_type": "code",
      "metadata": {
        "id": "AHdPHzbT4uHu",
        "colab_type": "code",
        "colab": {}
      },
      "source": [
        ""
      ],
      "execution_count": null,
      "outputs": []
    },
    {
      "cell_type": "markdown",
      "metadata": {
        "id": "F-btJomFde5R",
        "colab_type": "text"
      },
      "source": [
        "Variational Autoencoder with MNIST"
      ]
    },
    {
      "cell_type": "code",
      "metadata": {
        "id": "Q7Ry4s8Cdfij",
        "colab_type": "code",
        "colab": {}
      },
      "source": [
        "#the difference between a simple autoencoder and VAE lies in the fact that while an AE \n",
        "#simply reproduces the input images fron the encoded latent vector space. VAEs are able to produce varied images \n",
        "#from the encoded latent space"
      ],
      "execution_count": null,
      "outputs": []
    },
    {
      "cell_type": "code",
      "metadata": {
        "id": "1cl3gB85dfgt",
        "colab_type": "code",
        "colab": {}
      },
      "source": [
        "class VAE():\n",
        "  def __init__(self,**kwargs):\n",
        "    super(self,VAE).__init__():\n",
        "    self.encode1=nn.Linear(kwargs['input_shape'],324)\n",
        "    self.encode2=nn.Linear(324,128)\n",
        "    self.decode1=nn.Linear(128,324)\n",
        "    self.decode2=nn.Linear(324,kwargs['input_shape'])\n",
        "\n",
        "    def reparameterize(self, mu, log_var):\n",
        "      \"\"\"\n",
        "      :param mu: mean from the encoder's latent space\n",
        "      :param log_var: log variance from the encoder's latent space\n",
        "      \"\"\"\n",
        "      std = torch.exp(0.5*log_var) # standard deviation\n",
        "      eps = torch.randn_like(std) # `randn_like` as we need the same size\n",
        "      sample = mu + (eps * std) # sampling as if coming from the input space\n",
        "      return sample\n",
        "    \n",
        "  \n",
        "    def forward(self, x):\n",
        "      # encoding\n",
        "      x = F.relu(self.enc1(x))\n",
        "      x = self.enc2(x)\n",
        "      # get `mu` and `log_var`\n",
        "      mu = x\n",
        "      log_var = x\n",
        "      # get the latent vector through reparameterization\n",
        "      z = self.reparameterize(mu, log_var)\n",
        "\n",
        "      # decoding\n",
        "      x = F.relu(self.dec1(z))\n",
        "      reconstruction = torch.sigmoid(self.dec2(x))\n",
        "      return reconstruction, mu, log_var\n",
        "\n",
        "model=VAE(input_features=784)"
      ],
      "execution_count": null,
      "outputs": []
    },
    {
      "cell_type": "code",
      "metadata": {
        "id": "4j-drRmAdfeu",
        "colab_type": "code",
        "colab": {}
      },
      "source": [
        ""
      ],
      "execution_count": null,
      "outputs": []
    },
    {
      "cell_type": "code",
      "metadata": {
        "id": "6pdOW_vMdfb1",
        "colab_type": "code",
        "colab": {}
      },
      "source": [
        ""
      ],
      "execution_count": null,
      "outputs": []
    },
    {
      "cell_type": "markdown",
      "metadata": {
        "id": "HF7cmRGWVXJk",
        "colab_type": "text"
      },
      "source": [
        "GANs with PyTorch"
      ]
    },
    {
      "cell_type": "code",
      "metadata": {
        "id": "XnVk3XEqVU_V",
        "colab_type": "code",
        "colab": {}
      },
      "source": [
        "#GANs consist of 2 parts Generator and a discriminator,where input to the generator is random noise and it outputs some\n",
        "#random stuff for  the first time,the input to discriminator is the image we want to generate,we iteratively take the output  "
      ],
      "execution_count": null,
      "outputs": []
    },
    {
      "cell_type": "code",
      "metadata": {
        "id": "L9SWL4124uFe",
        "colab_type": "code",
        "colab": {}
      },
      "source": [
        ""
      ],
      "execution_count": null,
      "outputs": []
    },
    {
      "cell_type": "code",
      "metadata": {
        "id": "qUnU-Pud4uDQ",
        "colab_type": "code",
        "colab": {}
      },
      "source": [
        ""
      ],
      "execution_count": null,
      "outputs": []
    },
    {
      "cell_type": "code",
      "metadata": {
        "id": "Ll0MyTwk4uAu",
        "colab_type": "code",
        "colab": {}
      },
      "source": [
        ""
      ],
      "execution_count": null,
      "outputs": []
    },
    {
      "cell_type": "code",
      "metadata": {
        "id": "1mm6Grcz4t-r",
        "colab_type": "code",
        "colab": {}
      },
      "source": [
        ""
      ],
      "execution_count": null,
      "outputs": []
    },
    {
      "cell_type": "code",
      "metadata": {
        "id": "0qn-ZD4Y4t7T",
        "colab_type": "code",
        "colab": {}
      },
      "source": [
        ""
      ],
      "execution_count": null,
      "outputs": []
    },
    {
      "cell_type": "code",
      "metadata": {
        "id": "cBdc8GzHzNVJ",
        "colab_type": "code",
        "colab": {}
      },
      "source": [
        "#GANs\n",
        "#Style Transfer\n",
        "#BBox segmentation/Instance Segmentation/U-Net\n",
        "#Detection\n"
      ],
      "execution_count": null,
      "outputs": []
    }
  ]
}